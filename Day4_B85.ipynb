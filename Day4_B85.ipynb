{
 "cells": [
  {
   "cell_type": "code",
   "execution_count": null,
   "id": "e60fc881",
   "metadata": {},
   "outputs": [],
   "source": [
    "Classification of list datatype \n",
    "\n",
    "It is classified into Mutable datatype (which is editable)\n",
    "\n",
    "how to define list datatype []"
   ]
  },
  {
   "cell_type": "code",
   "execution_count": 3,
   "id": "0f2c494b",
   "metadata": {},
   "outputs": [],
   "source": [
    "students = ['john', 'bikash', 'jacob', 'preety', 'rahul', 'jyoti', 'avinav']"
   ]
  },
  {
   "cell_type": "code",
   "execution_count": 4,
   "id": "e7975ea5",
   "metadata": {},
   "outputs": [
    {
     "name": "stdout",
     "output_type": "stream",
     "text": [
      "['john', 'bikash', 'jacob', 'preety', 'rahul', 'jyoti', 'avinav']\n"
     ]
    }
   ],
   "source": [
    "print(students)"
   ]
  },
  {
   "cell_type": "code",
   "execution_count": 5,
   "id": "e8592237",
   "metadata": {},
   "outputs": [],
   "source": [
    "# need to print as per the index "
   ]
  },
  {
   "cell_type": "code",
   "execution_count": 7,
   "id": "1f2dda71",
   "metadata": {},
   "outputs": [
    {
     "name": "stdout",
     "output_type": "stream",
     "text": [
      "preety\n"
     ]
    }
   ],
   "source": [
    "print(students[3])"
   ]
  },
  {
   "cell_type": "code",
   "execution_count": 8,
   "id": "820178e6",
   "metadata": {},
   "outputs": [
    {
     "name": "stdout",
     "output_type": "stream",
     "text": [
      "avinav\n"
     ]
    }
   ],
   "source": [
    "print(students[6])"
   ]
  },
  {
   "cell_type": "code",
   "execution_count": 9,
   "id": "c0346067",
   "metadata": {},
   "outputs": [],
   "source": [
    "#need to add new student in the list "
   ]
  },
  {
   "cell_type": "code",
   "execution_count": 10,
   "id": "9cc1802d",
   "metadata": {},
   "outputs": [],
   "source": [
    "students.append('harish')"
   ]
  },
  {
   "cell_type": "code",
   "execution_count": 11,
   "id": "493319bf",
   "metadata": {},
   "outputs": [
    {
     "name": "stdout",
     "output_type": "stream",
     "text": [
      "['john', 'bikash', 'jacob', 'preety', 'rahul', 'jyoti', 'avinav', 'harish']\n"
     ]
    }
   ],
   "source": [
    "print(students)"
   ]
  },
  {
   "cell_type": "code",
   "execution_count": 12,
   "id": "9b5bcb37",
   "metadata": {},
   "outputs": [],
   "source": [
    "#need to place a new student in a specific place"
   ]
  },
  {
   "cell_type": "code",
   "execution_count": 13,
   "id": "1ffcddf4",
   "metadata": {},
   "outputs": [],
   "source": [
    "students.insert(0,'jagdish')"
   ]
  },
  {
   "cell_type": "code",
   "execution_count": 14,
   "id": "b3c5f29d",
   "metadata": {},
   "outputs": [
    {
     "name": "stdout",
     "output_type": "stream",
     "text": [
      "['jagdish', 'john', 'bikash', 'jacob', 'preety', 'rahul', 'jyoti', 'avinav', 'harish']\n"
     ]
    }
   ],
   "source": [
    "print(students)"
   ]
  },
  {
   "cell_type": "code",
   "execution_count": 16,
   "id": "7405fb3b",
   "metadata": {},
   "outputs": [
    {
     "ename": "AttributeError",
     "evalue": "'list' object has no attribute 'title'",
     "output_type": "error",
     "traceback": [
      "\u001b[1;31m---------------------------------------------------------------------------\u001b[0m",
      "\u001b[1;31mAttributeError\u001b[0m                            Traceback (most recent call last)",
      "Cell \u001b[1;32mIn[16], line 1\u001b[0m\n\u001b[1;32m----> 1\u001b[0m \u001b[38;5;28mprint\u001b[39m(students\u001b[38;5;241m.\u001b[39mtitle)\n",
      "\u001b[1;31mAttributeError\u001b[0m: 'list' object has no attribute 'title'"
     ]
    }
   ],
   "source": [
    "print(students.title)"
   ]
  },
  {
   "cell_type": "code",
   "execution_count": 17,
   "id": "b8e64f20",
   "metadata": {},
   "outputs": [],
   "source": [
    "#modify a student name or change a student name "
   ]
  },
  {
   "cell_type": "code",
   "execution_count": 18,
   "id": "85ee5889",
   "metadata": {},
   "outputs": [],
   "source": [
    "students[1]= 'Ram'"
   ]
  },
  {
   "cell_type": "code",
   "execution_count": 19,
   "id": "c2f050d8",
   "metadata": {},
   "outputs": [
    {
     "name": "stdout",
     "output_type": "stream",
     "text": [
      "['jagdish', 'Ram', 'bikash', 'jacob', 'preety', 'rahul', 'jyoti', 'avinav', 'harish']\n"
     ]
    }
   ],
   "source": [
    "print(students)"
   ]
  },
  {
   "cell_type": "code",
   "execution_count": 20,
   "id": "e3756e27",
   "metadata": {},
   "outputs": [],
   "source": [
    "##delete a particular name from list datatype "
   ]
  },
  {
   "cell_type": "code",
   "execution_count": 22,
   "id": "b887cad2",
   "metadata": {},
   "outputs": [],
   "source": [
    "del students[3]"
   ]
  },
  {
   "cell_type": "code",
   "execution_count": 23,
   "id": "e41c5fbc",
   "metadata": {},
   "outputs": [
    {
     "name": "stdout",
     "output_type": "stream",
     "text": [
      "['jagdish', 'Ram', 'bikash', 'preety', 'rahul', 'jyoti', 'avinav', 'harish']\n"
     ]
    }
   ],
   "source": [
    "print(students)"
   ]
  },
  {
   "cell_type": "code",
   "execution_count": null,
   "id": "734ec9ed",
   "metadata": {},
   "outputs": [],
   "source": []
  },
  {
   "cell_type": "code",
   "execution_count": null,
   "id": "60339dee",
   "metadata": {},
   "outputs": [],
   "source": []
  },
  {
   "cell_type": "code",
   "execution_count": null,
   "id": "b08bace9",
   "metadata": {},
   "outputs": [],
   "source": []
  }
 ],
 "metadata": {
  "kernelspec": {
   "display_name": "Python 3 (ipykernel)",
   "language": "python",
   "name": "python3"
  },
  "language_info": {
   "codemirror_mode": {
    "name": "ipython",
    "version": 3
   },
   "file_extension": ".py",
   "mimetype": "text/x-python",
   "name": "python",
   "nbconvert_exporter": "python",
   "pygments_lexer": "ipython3",
   "version": "3.11.5"
  }
 },
 "nbformat": 4,
 "nbformat_minor": 5
}
